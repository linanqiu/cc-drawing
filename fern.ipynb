{
 "metadata": {
  "language": "Julia",
  "name": "fern"
 },
 "nbformat": 3,
 "nbformat_minor": 0,
 "worksheets": [
  {
   "cells": [
    {
     "cell_type": "code",
     "collapsed": false,
     "input": "using Compose",
     "language": "python",
     "metadata": {},
     "outputs": [],
     "prompt_number": 352
    },
    {
     "cell_type": "code",
     "collapsed": false,
     "input": "# draw from a discrete CDF\npick(fern_P) = searchsortedfirst(fern_P, rand())\n\n# the iterated function system (IFS) \"code\" for Barnsley's fern.\n# consists of four matrices and a probability for each.\nfern_M = {[ 0    0    0; 0    .16 0;    0 0 1],\n          [ 0.85  .04 0; -.04 .85 1.6;  0 0 1],\n          [ 0.2  -.26 0;  .23 .22 1.6;  0 0 1],\n          [-0.15  .28 0;  .26 .24  .44; 0 0 1]}\nfern_P = cumsum([.01, .85, .07, .07]);",
     "language": "python",
     "metadata": {},
     "outputs": [],
     "prompt_number": 352
    },
    {
     "cell_type": "code",
     "collapsed": false,
     "input": "point(x,y) = polygon((x,y),(x+.001,y+.001))",
     "language": "python",
     "metadata": {},
     "outputs": [
      {
       "metadata": {},
       "output_type": "pyout",
       "prompt_number": 353,
       "text": "point (generic function with 1 method)"
      }
     ],
     "prompt_number": 353
    },
    {
     "cell_type": "code",
     "collapsed": false,
     "input": "# first, an implementation using Compose.\n# This is a huge point cloud, which Compose is definitely not designed for, and runs quite slowly.\n\n\nfunction generate(fern_M, fern_P, niter)\n    pt = [0,0,1]     # start at an arbitrary point\n    c = compose(canvas(), linewidth(0.3mm))\n    for i = 1:niter\n        pt = fern_M[pick(fern_P)]*pt\n        if i > 10\n            c = compose(c, point((pt[1]+3)/6,1-pt[2]/10))\n        end\n    end\n    c\nend",
     "language": "python",
     "metadata": {},
     "outputs": [
      {
       "metadata": {},
       "output_type": "pyout",
       "prompt_number": 366,
       "text": "generate (generic function with 1 method)"
      }
     ],
     "prompt_number": 366
    },
    {
     "cell_type": "code",
     "collapsed": false,
     "input": "img = SVG(\"fern.svg\", 8.5inch, 11inch)\ndraw(img, compose(generate(fern_M, fern_P,99999), linewidth(0.1mm), fill(RGB(0,0,0))))",
     "language": "python",
     "metadata": {},
     "outputs": [],
     "prompt_number": 369
    },
    {
     "cell_type": "code",
     "collapsed": false,
     "input": "",
     "language": "python",
     "metadata": {},
     "outputs": []
    }
   ],
   "metadata": {}
  }
 ]
}