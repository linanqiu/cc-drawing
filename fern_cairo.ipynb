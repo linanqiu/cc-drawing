{
 "metadata": {
  "language": "Julia",
  "name": ""
 },
 "nbformat": 3,
 "nbformat_minor": 0,
 "worksheets": [
  {
   "cells": [
    {
     "cell_type": "code",
     "collapsed": false,
     "input": [
      "using Cairo\n",
      "using Color\n",
      "using Base.Graphics"
     ],
     "language": "python",
     "metadata": {},
     "outputs": [],
     "prompt_number": 73
    },
    {
     "cell_type": "code",
     "collapsed": false,
     "input": [
      "# Pick a random value from the fern_P CDF\n",
      "\n",
      "pick(fern_P) = searchsortedfirst(fern_P, rand())\n",
      "\n",
      "# The famous 4 matrices for Barnsley Ferns\n",
      "\n",
      "fern_M = {[ 0    0    0; 0    .16 0;    0 0 1],\n",
      "          [ 0.85  .04 0; -.04 .85 1.6;  0 0 1],\n",
      "          [ 0.2  -.26 0;  .23 .22 1.6;  0 0 1],\n",
      "          [-0.15  .28 0;  .26 .24  .44; 0 0 1]}\n",
      "fern_P = cumsum([.01, .85, .07, .07]);"
     ],
     "language": "python",
     "metadata": {},
     "outputs": [],
     "prompt_number": 73
    },
    {
     "cell_type": "code",
     "collapsed": false,
     "input": [
      "function ifs(GC, M, p, niter, scale=0.001)\n",
      "    pt = [0.5,0.5,1]\n",
      "    for i = 1:niter+10\n",
      "        pt = M[pick(p)]*pt\n",
      "        if i > 10\n",
      "            circle(GC, pt[1], pt[2], scale)\n",
      "            stroke(GC)\n",
      "        end\n",
      "    end\n",
      "end"
     ],
     "language": "python",
     "metadata": {},
     "outputs": [
      {
       "metadata": {},
       "output_type": "pyout",
       "prompt_number": 74,
       "text": [
        "ifs (generic function with 2 methods)"
       ]
      }
     ],
     "prompt_number": 74
    },
    {
     "cell_type": "code",
     "collapsed": false,
     "input": [
      "function drawing(w,h; fill=nothing, coords=nothing, left=0, right=w, top=0, bottom=h)\n",
      "    s = CairoRGBSurface(w, h)\n",
      "    gc = creategc(s)\n",
      "    if coords != nothing\n",
      "        left, right, top, bottom = coords\n",
      "    end\n",
      "    Graphics.set_coords(gc, 0, 0, w, h, left, right, top, bottom)\n",
      "    if fill != nothing\n",
      "        set_source(gc, fill)\n",
      "        paint(gc)\n",
      "    end\n",
      "    set_source(gc, RGB(0,0,0))\n",
      "    gc\n",
      "end"
     ],
     "language": "python",
     "metadata": {},
     "outputs": [
      {
       "metadata": {},
       "output_type": "pyout",
       "prompt_number": 75,
       "text": [
        "drawing (generic function with 1 method)"
       ]
      }
     ],
     "prompt_number": 75
    },
    {
     "cell_type": "code",
     "collapsed": false,
     "input": [
      "d = drawing(2550*2, 3300*2, coords=[-4, 4.5, 10.2, 0], fill=RGB(255,255,255))\n",
      "set_line_width(d,0.5)"
     ],
     "language": "python",
     "metadata": {},
     "outputs": [],
     "prompt_number": 76
    },
    {
     "cell_type": "code",
     "collapsed": false,
     "input": [
      "@time ifs(d, fern_M, fern_P, 99999999)"
     ],
     "language": "python",
     "metadata": {},
     "outputs": [
      {
       "output_type": "stream",
       "stream": "stdout",
       "text": [
        "elapsed time: 666"
       ]
      },
      {
       "output_type": "stream",
       "stream": "stdout",
       "text": [
        ".380379805 seconds (14400123512 bytes allocated)\n"
       ]
      }
     ],
     "prompt_number": 77
    },
    {
     "cell_type": "code",
     "collapsed": false,
     "input": [
      "write_to_png(d.surface,\"fern_cairo.png\")"
     ],
     "language": "python",
     "metadata": {},
     "outputs": [],
     "prompt_number": 78
    },
    {
     "cell_type": "code",
     "collapsed": false,
     "input": [],
     "language": "python",
     "metadata": {},
     "outputs": [],
     "prompt_number": 79
    }
   ],
   "metadata": {}
  }
 ]
}